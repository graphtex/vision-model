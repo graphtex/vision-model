{
 "cells": [
  {
   "cell_type": "code",
   "execution_count": 31,
   "id": "0c80c6a6",
   "metadata": {
    "scrolled": false
   },
   "outputs": [],
   "source": [
    "import os\n",
    "os.mkdir('images/')\n",
    "%run generate_graphs.py 3000 images"
   ]
  },
  {
   "cell_type": "code",
   "execution_count": 32,
   "id": "5db301bc",
   "metadata": {},
   "outputs": [],
   "source": [
    "%rm -r images"
   ]
  },
  {
   "cell_type": "code",
   "execution_count": null,
   "id": "25c04a99",
   "metadata": {},
   "outputs": [],
   "source": []
  }
 ],
 "metadata": {
  "kernelspec": {
   "display_name": "Python 3 (ipykernel)",
   "language": "python",
   "name": "python3"
  },
  "language_info": {
   "codemirror_mode": {
    "name": "ipython",
    "version": 3
   },
   "file_extension": ".py",
   "mimetype": "text/x-python",
   "name": "python",
   "nbconvert_exporter": "python",
   "pygments_lexer": "ipython3",
   "version": "3.9.2"
  }
 },
 "nbformat": 4,
 "nbformat_minor": 5
}
