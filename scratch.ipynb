{
 "cells": [
  {
   "cell_type": "code",
   "execution_count": 84,
   "metadata": {},
   "outputs": [],
   "source": [
    "import json\n",
    "import torch"
   ]
  },
  {
   "cell_type": "code",
   "execution_count": 85,
   "metadata": {},
   "outputs": [],
   "source": [
    "annotations_file = 'graph_generation/small/train.json'\n",
    "\n",
    "with open(annotations_file, 'r') as f:\n",
    "    annotations = json.load(f)\n",
    "\n",
    "def transform(annot):\n",
    "    return {\n",
    "        'labels': torch.Tensor(annot['labels']),\n",
    "        'boxes': torch.Tensor(annot['boxes']),\n",
    "    }\n",
    "\n",
    "for k in annotations:\n",
    "    annotations[k] = transform(annotations[k])"
   ]
  },
  {
   "cell_type": "code",
   "execution_count": 86,
   "metadata": {},
   "outputs": [
    {
     "data": {
      "text/plain": [
       "{'labels': tensor([36., 36., 22., 29.]),\n",
       " 'boxes': tensor([[0.2500, 0.3956, 0.0682, 0.0682],\n",
       "         [0.7500, 0.6044, 0.0682, 0.0682],\n",
       "         [0.2500, 0.3956, 0.0250, 0.0250],\n",
       "         [0.7500, 0.6044, 0.0250, 0.0250]])}"
      ]
     },
     "execution_count": 86,
     "metadata": {},
     "output_type": "execute_result"
    }
   ],
   "source": [
    "annotations['0']"
   ]
  },
  {
   "cell_type": "code",
   "execution_count": 90,
   "metadata": {},
   "outputs": [],
   "source": [
    "from torchvision.ops import box_convert\n",
    "from torchvision.utils import draw_bounding_boxes, make_grid\n",
    "import torchvision.transforms as T\n",
    "def display_annotations(img, boxes, device='cpu'):\n",
    "    boxes = box_convert(boxes,'cxcywh', 'xyxy')\n",
    "    img_bytes = T.functional.convert_image_dtype(img, torch.uint8)\n",
    "    _,Y,X = img_bytes.shape\n",
    "    scale = torch.Tensor([X,Y,X,Y]).to(device)\n",
    "    boxes = torch.einsum('ij,j->ij',boxes,scale)\n",
    "    boxes = boxes.to(torch.int)\n",
    "\n",
    "    b = draw_bounding_boxes(img_bytes, boxes, width=3)\n",
    "    b = b.to('cpu')\n",
    "    return b\n",
    "\n",
    "def display_all_annotations(imgs, labels):\n",
    "    out = []\n",
    "    print(len(imgs), len(labels))\n",
    "    for img, label in zip(imgs, labels):\n",
    "        # print(label)\n",
    "        # print(label['boxes'])\n",
    "        out.append(display_annotations(img, label['boxes']))\n",
    "\n",
    "\n",
    "    return make_grid(out, nrow=5)\n"
   ]
  },
  {
   "cell_type": "code",
   "execution_count": 91,
   "metadata": {},
   "outputs": [],
   "source": [
    "from PIL import Image\n",
    "\n",
    "ns = [10,57,20,30,40,50,60,70,80,90]\n",
    "# ns = [20]\n",
    "\n",
    "imgs = []\n",
    "labels = []\n",
    "for n in ns:\n",
    "    n = str(n)\n",
    "    img = Image.open(f'graph_generation/small/train/{n}.png').convert('RGB')\n",
    "    t = T.ToTensor()(img)\n",
    "    imgs.append(t)\n",
    "    labels.append(annotations[n])\n"
   ]
  },
  {
   "cell_type": "code",
   "execution_count": 93,
   "metadata": {},
   "outputs": [
    {
     "name": "stdout",
     "output_type": "stream",
     "text": [
      "10 10\n"
     ]
    }
   ],
   "source": [
    "\n",
    "res = display_all_annotations(imgs, labels)\n",
    "\n",
    "res = T.ToPILImage()(res).show()"
   ]
  },
  {
   "cell_type": "code",
   "execution_count": null,
   "metadata": {},
   "outputs": [],
   "source": [
    "\n",
    "def gen_test_segmentations(model, data_loader, device, thresh=0.7):\n",
    "    imgs = []\n",
    "    for image in data_loader:\n",
    "        image = image.to(device)\n",
    "        outputs = model(image)\n",
    "        ps = outputs['pred_logits'].softmax(-1)[0, :, :-1]\n",
    "        print(f\"Max p: {ps.max()}\")\n",
    "        keep = ps.max(-1).values > thresh\n",
    "\n",
    "        boxes = outputs['pred_boxes'][0,keep]\n",
    "        boxes = box_convert(boxes, 'cxcywh', 'xyxy')\n",
    "        img_bytes = T.functional.convert_image_dtype(image[0], torch.uint8)\n",
    "        _,Y,X = img_bytes.shape\n",
    "        scale = torch.Tensor([X,Y,X,Y]).to(device)\n",
    "        boxes = torch.einsum('ij,j->ij',boxes,scale)\n",
    "        boxes = boxes.to(torch.int)\n",
    "\n",
    "        b = draw_bounding_boxes(img_bytes, boxes, width=3)\n",
    "        b = b.to('cpu')\n",
    "        imgs.append(b)\n",
    "\n",
    "    grid = make_grid(imgs, nrow=2)\n",
    "\n",
    "    return grid"
   ]
  }
 ],
 "metadata": {
  "kernelspec": {
   "display_name": "graphtex",
   "language": "python",
   "name": "python3"
  },
  "language_info": {
   "codemirror_mode": {
    "name": "ipython",
    "version": 3
   },
   "file_extension": ".py",
   "mimetype": "text/x-python",
   "name": "python",
   "nbconvert_exporter": "python",
   "pygments_lexer": "ipython3",
   "version": "3.9.15"
  },
  "orig_nbformat": 4
 },
 "nbformat": 4,
 "nbformat_minor": 2
}
